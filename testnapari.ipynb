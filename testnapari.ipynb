{
 "cells": [
  {
   "cell_type": "code",
   "execution_count": null,
   "metadata": {
    "vscode": {
     "languageId": "plaintext"
    }
   },
   "outputs": [],
   "source": [
    "from scipy.io import loadmat\n",
    "\n",
    "# Path to your .mat file\n",
    "mat_file_path = \"example.mat\"\n",
    "\n",
    "# Load the .mat file\n",
    "data = loadmat(mat_file_path)\n",
    "\n",
    "# Print the keys of the dictionary\n",
    "print(data.keys())\n",
    "\n",
    "# Access a specific variable\n",
    "variable_name = 'your_variable'  # Replace with your actual variable name\n",
    "if variable_name in data:\n",
    "    variable_data = data[variable_name]\n",
    "    print(variable_data)\n"
   ]
  }
 ],
 "metadata": {
  "language_info": {
   "name": "python"
  }
 },
 "nbformat": 4,
 "nbformat_minor": 2
}
